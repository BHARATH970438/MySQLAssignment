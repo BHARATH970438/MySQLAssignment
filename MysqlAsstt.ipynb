{
 "cells": [
  {
   "attachments": {},
   "cell_type": "markdown",
   "metadata": {},
   "source": [
    "Q1. What is a database? Differentiate between SQL and NoSQL databases."
   ]
  },
  {
   "attachments": {},
   "cell_type": "markdown",
   "metadata": {},
   "source": [
    "Database : Database is a structured collection of data that is organised and stored in efficient way.\n",
    "It allows to efficient retrieval,manipulation,and management of data "
   ]
  },
  {
   "attachments": {},
   "cell_type": "markdown",
   "metadata": {},
   "source": [
    "Two types of databases:\n",
    "1. SQL(structured query launguage).\n",
    "2. NoSQL(Not only SQL) these differ from data models,query languages,and usage scenarios. "
   ]
  },
  {
   "attachments": {},
   "cell_type": "markdown",
   "metadata": {},
   "source": [
    "SQL:\n",
    "1. Data organised in tabular form.\n",
    "2. predefined schema with fixed datatypes.\n",
    "3. It ensures data integrity and consistency.\n",
    "4. It uses SQL language to communicate with SQL Databases to fetch,update,and delete data.\n",
    "5. It used to store structure data only.\n",
    "6. It is vertically scalable.\n",
    "7. Ex : Mysql,Oracale DB,Microsoft SQL server."
   ]
  },
  {
   "attachments": {},
   "cell_type": "markdown",
   "metadata": {},
   "source": [
    "NoSQl:\n",
    "1. It uses variety of data models key:value,document,columnar,graph formats.\n",
    "2. It desingned to more scalable,amd flexible compared to SQL databases.\n",
    "3. It is horzontally scalable.\n",
    "4. These databases use different Query language according to their specific data models.\n",
    "5. It is used to handle large amount of semi-structured data.\n",
    "6. It is schema less.\n",
    "7. Ex : MongoDB,HBase,Cassandra,etc. "
   ]
  },
  {
   "attachments": {},
   "cell_type": "markdown",
   "metadata": {},
   "source": [
    "Q2. What is DDL? Explain why CREATE, DROP, ALTER, and TRUNCATE are used with an example."
   ]
  },
  {
   "attachments": {},
   "cell_type": "markdown",
   "metadata": {},
   "source": [
    "\n",
    "DDL stands for Data Definition Language. It is a set of SQL (Structured Query Language) statements used to define and manage the structure of a database, including tables, views, indexes, and constraints. DDL statements are used to create, modify, and delete database objects."
   ]
  },
  {
   "attachments": {},
   "cell_type": "markdown",
   "metadata": {},
   "source": [
    "CREATE:\n",
    "The CREATE statement is used to create a new database object, such as a table or a view. It specifies the object's name, structure, and any additional properties."
   ]
  },
  {
   "cell_type": "code",
   "execution_count": null,
   "metadata": {
    "vscode": {
     "languageId": "sql"
    }
   },
   "outputs": [],
   "source": [
    "CREATE TABLE Customers (\n",
    "    ID INT PRIMARY KEY,\n",
    "    Name VARCHAR(50),\n",
    "    Email VARCHAR(100)\n",
    ");"
   ]
  },
  {
   "attachments": {},
   "cell_type": "markdown",
   "metadata": {},
   "source": [
    "DROP:\n",
    "The DROP statement is used to remove an existing database object, such as a table or a view. It permanently deletes the object and its data from the database"
   ]
  },
  {
   "cell_type": "code",
   "execution_count": null,
   "metadata": {
    "vscode": {
     "languageId": "sql"
    }
   },
   "outputs": [],
   "source": [
    "DROP TABLE Customers;"
   ]
  },
  {
   "attachments": {},
   "cell_type": "markdown",
   "metadata": {},
   "source": [
    "ALTER:\n",
    "The ALTER statement is used to modify the structure of an existing database object, such as a table. It allows you to add, modify, or delete columns, constraints, or other properties of the object."
   ]
  },
  {
   "cell_type": "code",
   "execution_count": null,
   "metadata": {
    "vscode": {
     "languageId": "sql"
    }
   },
   "outputs": [],
   "source": [
    "ALTER TABLE Customers\n",
    "ADD Phone VARCHAR(20);"
   ]
  },
  {
   "attachments": {},
   "cell_type": "markdown",
   "metadata": {},
   "source": [
    "TRUNCATE:\n",
    "The TRUNCATE statement is used to delete all data from an existing table quickly. It removes all rows from the table while keeping the table structure intact. Unlike the DROP statement, TRUNCATE does not delete the table itself."
   ]
  },
  {
   "cell_type": "code",
   "execution_count": null,
   "metadata": {
    "vscode": {
     "languageId": "sql"
    }
   },
   "outputs": [],
   "source": [
    "TRUNCATE TABLE Customers;"
   ]
  },
  {
   "attachments": {},
   "cell_type": "markdown",
   "metadata": {},
   "source": [
    "Q3. What is DML? Explain INSERT, UPDATE, and DELETE with an example."
   ]
  },
  {
   "attachments": {},
   "cell_type": "markdown",
   "metadata": {},
   "source": [
    "DML stands for Data Manipulation Language. It is a subset of SQL (Structured Query Language) that allows users to modify and manipulate data stored in a database. The three main operations in DML are INSERT, UPDATE, and DELETE."
   ]
  },
  {
   "attachments": {},
   "cell_type": "markdown",
   "metadata": {},
   "source": [
    "INSERT: The INSERT statement is used to add new records or rows into a table. It allows you to specify the values that should be inserted into each column of the table."
   ]
  },
  {
   "attachments": {},
   "cell_type": "markdown",
   "metadata": {},
   "source": [
    "For Example: Table: Employees, Columans: EmployeeID, FirstName, LastName, Department"
   ]
  },
  {
   "cell_type": "code",
   "execution_count": null,
   "metadata": {
    "vscode": {
     "languageId": "sql"
    }
   },
   "outputs": [],
   "source": [
    "INSERT INTO Employees (EmployeeID, FirstName, LastName, Department)\n",
    "VALUES (1, 'John', 'Doe', 'Sales');"
   ]
  },
  {
   "attachments": {},
   "cell_type": "markdown",
   "metadata": {},
   "source": [
    "UPDATE: The UPDATE statement is used to modify existing records in a table. It allows you to update the values of one or more columns in the table"
   ]
  },
  {
   "cell_type": "code",
   "execution_count": null,
   "metadata": {
    "vscode": {
     "languageId": "sql"
    }
   },
   "outputs": [],
   "source": [
    "UPDATE Employees\n",
    "SET Department = 'Marketing'\n",
    "WHERE EmployeeID = 1;"
   ]
  },
  {
   "attachments": {},
   "cell_type": "markdown",
   "metadata": {},
   "source": [
    "DELETE: The DELETE statement is used to remove existing records from a table. It allows you to specify the criteria for selecting the records to be deleted."
   ]
  },
  {
   "cell_type": "code",
   "execution_count": null,
   "metadata": {
    "vscode": {
     "languageId": "sql"
    }
   },
   "outputs": [],
   "source": [
    "DELETE FROM Employees\n",
    "WHERE EmployeeID = 1;"
   ]
  },
  {
   "attachments": {},
   "cell_type": "markdown",
   "metadata": {},
   "source": [
    "Q4. What is DQL? Explain SELECT with an example."
   ]
  },
  {
   "attachments": {},
   "cell_type": "markdown",
   "metadata": {},
   "source": [
    "The Data Query Language, or DQL for short, is the group of commands responsible for querying data from a database. The principal DQL command in SQL is the SELECT command, which retrieves data from one or more tables. "
   ]
  },
  {
   "cell_type": "code",
   "execution_count": null,
   "metadata": {
    "vscode": {
     "languageId": "sql"
    }
   },
   "outputs": [],
   "source": [
    "SELECT * FROM Employees"
   ]
  },
  {
   "attachments": {},
   "cell_type": "markdown",
   "metadata": {},
   "source": [
    "Q5. Explain Primary Key and Foreign Key."
   ]
  },
  {
   "attachments": {},
   "cell_type": "markdown",
   "metadata": {},
   "source": [
    "Primary Key:\n",
    "1. Unique identifier used to fetch each row in a table.\n",
    "2. No Duplicate or NULL or empty entries in primary key."
   ]
  },
  {
   "attachments": {},
   "cell_type": "markdown",
   "metadata": {},
   "source": [
    "Foreign Key:\n",
    "1) A foreign key is a column or a set of columns in one table that refers to the primary key in another table. It establishes a relationship between two tables by referencing the primary key of another table.\n",
    "2) Foreign keys help establish one-to-one, one-to-many, or many-to-many relationships between tables.\n",
    "3) The values can be a NULL or Empty in Foreign Key."
   ]
  },
  {
   "attachments": {},
   "cell_type": "markdown",
   "metadata": {},
   "source": [
    "Q6. Write a python code to connect MySQL to python. Explain the cursor() and execute() method."
   ]
  },
  {
   "cell_type": "code",
   "execution_count": null,
   "metadata": {},
   "outputs": [],
   "source": [
    "pip install mysql-connector-python"
   ]
  },
  {
   "cell_type": "code",
   "execution_count": null,
   "metadata": {},
   "outputs": [],
   "source": [
    "import mysql.connector\n",
    "\n",
    "# Connect to the database\n",
    "mydb = mysql.connector.connect(\n",
    "    host=\"localhost\",\n",
    "    user=\"username\",\n",
    "    password=\"password\",\n",
    "    database=\"database\"\n",
    ")\n",
    "\n",
    "# Create a cursor object\n",
    "cursor = mydb.cursor()\n",
    "\n",
    "# Execute a SQL query\n",
    "cursor.execute(\"SELECT * FROM yourtable\")\n",
    "\n",
    "# Fetch all the rows\n",
    "result = cursor.fetchall()\n",
    "\n",
    "# Iterate over the rows and print the data\n",
    "for row in result:\n",
    "    print(row)\n",
    "\n",
    "# Close the cursor and the connection\n",
    "cursor.close()\n",
    "mydb.close()"
   ]
  },
  {
   "attachments": {},
   "cell_type": "markdown",
   "metadata": {},
   "source": [
    "Q7. Give the order of execution of SQL clauses in an SQL query."
   ]
  },
  {
   "attachments": {},
   "cell_type": "markdown",
   "metadata": {},
   "source": [
    "The order of execution of SQL clauses in a typical SQL query is as follows:\n",
    "1. FROM : To fetch data from specifiec table.\n",
    "2. WHERE : This used to filter acconding to condition.\n",
    "3. GROUP BY : Group of rows based on specific columns.\n",
    "4. HAVING : Used filter rows based on condition.\n",
    "5. SELECT : Used to specify the columns to fetch.\n",
    "6. DISTINCT : To eliminate duplicate rows in specified columns.\n",
    "7. ORDER BY : used to sort the results set based on specified columns.\n",
    "8. LIMIT : To return restricted specified no. of rows."
   ]
  }
 ],
 "metadata": {
  "language_info": {
   "name": "python"
  },
  "orig_nbformat": 4
 },
 "nbformat": 4,
 "nbformat_minor": 2
}
